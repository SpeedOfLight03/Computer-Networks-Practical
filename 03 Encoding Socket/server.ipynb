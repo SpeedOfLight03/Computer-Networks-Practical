{
 "cells": [
  {
   "cell_type": "code",
   "execution_count": 1,
   "id": "8bcfc39e",
   "metadata": {},
   "outputs": [
    {
     "name": "stdout",
     "output_type": "stream",
     "text": [
      "Server is listening...\n",
      "Accepted connection from ('127.0.0.1', 59646)\n",
      "Received data from client: 110001\n",
      "Sending Manchester Encoded Data to client...\n",
      "------------------------------------\n",
      "Sending Differential Manchester Encoded Data to client...\n"
     ]
    },
    {
     "ename": "KeyboardInterrupt",
     "evalue": "",
     "output_type": "error",
     "traceback": [
      "\u001b[0;31m---------------------------------------------------------------------------\u001b[0m",
      "\u001b[0;31mKeyboardInterrupt\u001b[0m                         Traceback (most recent call last)",
      "Cell \u001b[0;32mIn[1], line 71\u001b[0m\n\u001b[1;32m     67\u001b[0m         handle_client_connection(client_socket)\n\u001b[1;32m     70\u001b[0m \u001b[38;5;28;01mif\u001b[39;00m \u001b[38;5;18m__name__\u001b[39m \u001b[38;5;241m==\u001b[39m \u001b[38;5;124m\"\u001b[39m\u001b[38;5;124m__main__\u001b[39m\u001b[38;5;124m\"\u001b[39m:\n\u001b[0;32m---> 71\u001b[0m     main()\n",
      "Cell \u001b[0;32mIn[1], line 65\u001b[0m, in \u001b[0;36mmain\u001b[0;34m()\u001b[0m\n\u001b[1;32m     62\u001b[0m \u001b[38;5;28mprint\u001b[39m(\u001b[38;5;124m\"\u001b[39m\u001b[38;5;124mServer is listening...\u001b[39m\u001b[38;5;124m\"\u001b[39m)\n\u001b[1;32m     64\u001b[0m \u001b[38;5;28;01mwhile\u001b[39;00m \u001b[38;5;28;01mTrue\u001b[39;00m:\n\u001b[0;32m---> 65\u001b[0m     client_socket, address \u001b[38;5;241m=\u001b[39m server_socket\u001b[38;5;241m.\u001b[39maccept()\n\u001b[1;32m     66\u001b[0m     \u001b[38;5;28mprint\u001b[39m(\u001b[38;5;124mf\u001b[39m\u001b[38;5;124m\"\u001b[39m\u001b[38;5;124mAccepted connection from \u001b[39m\u001b[38;5;132;01m{\u001b[39;00maddress\u001b[38;5;132;01m}\u001b[39;00m\u001b[38;5;124m\"\u001b[39m)\n\u001b[1;32m     67\u001b[0m     handle_client_connection(client_socket)\n",
      "File \u001b[0;32m~/anaconda3/lib/python3.11/socket.py:294\u001b[0m, in \u001b[0;36msocket.accept\u001b[0;34m(self)\u001b[0m\n\u001b[1;32m    287\u001b[0m \u001b[38;5;28;01mdef\u001b[39;00m \u001b[38;5;21maccept\u001b[39m(\u001b[38;5;28mself\u001b[39m):\n\u001b[1;32m    288\u001b[0m \u001b[38;5;250m    \u001b[39m\u001b[38;5;124;03m\"\"\"accept() -> (socket object, address info)\u001b[39;00m\n\u001b[1;32m    289\u001b[0m \n\u001b[1;32m    290\u001b[0m \u001b[38;5;124;03m    Wait for an incoming connection.  Return a new socket\u001b[39;00m\n\u001b[1;32m    291\u001b[0m \u001b[38;5;124;03m    representing the connection, and the address of the client.\u001b[39;00m\n\u001b[1;32m    292\u001b[0m \u001b[38;5;124;03m    For IP sockets, the address info is a pair (hostaddr, port).\u001b[39;00m\n\u001b[1;32m    293\u001b[0m \u001b[38;5;124;03m    \"\"\"\u001b[39;00m\n\u001b[0;32m--> 294\u001b[0m     fd, addr \u001b[38;5;241m=\u001b[39m \u001b[38;5;28mself\u001b[39m\u001b[38;5;241m.\u001b[39m_accept()\n\u001b[1;32m    295\u001b[0m     sock \u001b[38;5;241m=\u001b[39m socket(\u001b[38;5;28mself\u001b[39m\u001b[38;5;241m.\u001b[39mfamily, \u001b[38;5;28mself\u001b[39m\u001b[38;5;241m.\u001b[39mtype, \u001b[38;5;28mself\u001b[39m\u001b[38;5;241m.\u001b[39mproto, fileno\u001b[38;5;241m=\u001b[39mfd)\n\u001b[1;32m    296\u001b[0m     \u001b[38;5;66;03m# Issue #7995: if no default timeout is set and the listening\u001b[39;00m\n\u001b[1;32m    297\u001b[0m     \u001b[38;5;66;03m# socket had a (non-zero) timeout, force the new socket in blocking\u001b[39;00m\n\u001b[1;32m    298\u001b[0m     \u001b[38;5;66;03m# mode to override platform-specific socket flags inheritance.\u001b[39;00m\n",
      "\u001b[0;31mKeyboardInterrupt\u001b[0m: "
     ]
    }
   ],
   "source": [
    "import socket\n",
    "import datetime\n",
    "\n",
    "\n",
    "def manchester_encoding(data):\n",
    "    encoded_data = ''\n",
    "    for bit in data:\n",
    "        if bit == '0':\n",
    "            encoded_data += '01'\n",
    "        else:\n",
    "            encoded_data += '10'\n",
    "    return encoded_data\n",
    "\n",
    "def differential_manchester_encoding(data):\n",
    "    encoded_data = ''\n",
    "    last_bit = '0'  # Initialize the last bit to any value\n",
    "    for bit in data:\n",
    "        if bit == '0':\n",
    "            if last_bit == '0':\n",
    "                encoded_data += '10'\n",
    "                last_bit = '0'\n",
    "            else:\n",
    "                encoded_data += '01'\n",
    "                last_bit = '1'\n",
    "        else:\n",
    "            if last_bit == '0':\n",
    "                encoded_data += '01'\n",
    "                last_bit = '1'\n",
    "            else:\n",
    "                encoded_data += '10'\n",
    "                last_bit = '0'\n",
    "    return encoded_data\n",
    "\n",
    "\n",
    "# Function to handle client requests\n",
    "def handle_client_connection(client_socket):\n",
    "    while True:\n",
    "        data = client_socket.recv(1024).decode()\n",
    "        if not data:\n",
    "            break\n",
    "\n",
    "        print(f\"Received data from client: {data}\")\n",
    "        manchester_encoded_data = manchester_encoding(data)\n",
    "        differential_manchester_encoded_data = differential_manchester_encoding(data)\n",
    "\n",
    "        print(\"Sending Manchester Encoded Data to client...\")\n",
    "        client_socket.send(str(manchester_encoded_data).encode())\n",
    "\n",
    "        print(\"------------------------------------\")\n",
    "\n",
    "        print(\"Sending Differential Manchester Encoded Data to client...\")\n",
    "        client_socket.send(str(differential_manchester_encoded_data).encode())\n",
    "\n",
    "    client_socket.close()\n",
    "\n",
    "\n",
    "def main():\n",
    "    # Set up the server\n",
    "    server_socket = socket.socket(socket.AF_INET, socket.SOCK_STREAM)\n",
    "    server_socket.bind((\"localhost\", 9999))\n",
    "    server_socket.listen(5)\n",
    "    print(\"Server is listening...\")\n",
    "\n",
    "    while True:\n",
    "        client_socket, address = server_socket.accept()\n",
    "        print(f\"Accepted connection from {address}\")\n",
    "        handle_client_connection(client_socket)\n",
    "\n",
    "\n",
    "if __name__ == \"__main__\":\n",
    "    main()"
   ]
  },
  {
   "cell_type": "code",
   "execution_count": null,
   "id": "f0ab4486",
   "metadata": {},
   "outputs": [],
   "source": []
  }
 ],
 "metadata": {
  "kernelspec": {
   "display_name": "Python 3 (ipykernel)",
   "language": "python",
   "name": "python3"
  },
  "language_info": {
   "codemirror_mode": {
    "name": "ipython",
    "version": 3
   },
   "file_extension": ".py",
   "mimetype": "text/x-python",
   "name": "python",
   "nbconvert_exporter": "python",
   "pygments_lexer": "ipython3",
   "version": "3.11.5"
  }
 },
 "nbformat": 4,
 "nbformat_minor": 5
}
